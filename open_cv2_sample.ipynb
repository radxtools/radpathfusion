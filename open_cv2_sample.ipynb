{
 "cells": [
  {
   "cell_type": "code",
   "execution_count": 3,
   "metadata": {},
   "outputs": [],
   "source": [
    "import cv2\n",
    "import numpy as np"
   ]
  },
  {
   "cell_type": "code",
   "execution_count": 2,
   "metadata": {},
   "outputs": [],
   "source": [
    "tps = cv2.ThinPlateSplineShapeTransformer()"
   ]
  },
  {
   "cell_type": "code",
   "execution_count": 3,
   "metadata": {},
   "outputs": [
    {
     "name": "stdout",
     "output_type": "stream",
     "text": [
      "Help on built-in function warpImage:\n",
      "\n",
      "warpImage(...) method of cv2.ThinPlateSplineShapeTransformer instance\n",
      "    warpImage(transformingImage[, output[, flags[, borderMode[, borderValue]]]]) -> output\n",
      "    .   @brief Apply a transformation, given a pre-estimated transformation parameters, to an Image.\n",
      "    .   \n",
      "    .       @param transformingImage Input image.\n",
      "    .       @param output Output image.\n",
      "    .       @param flags Image interpolation method.\n",
      "    .       @param borderMode border style.\n",
      "    .       @param borderValue border value.\n",
      "\n"
     ]
    }
   ],
   "source": [
    "help(tps.warpImage)"
   ]
  },
  {
   "cell_type": "code",
   "execution_count": 4,
   "metadata": {},
   "outputs": [],
   "source": [
    "fixed = np.arange(10)\n",
    "src = np.column_stack([fixed,fixed])\n",
    "\n",
    "\n",
    "moving = np.arange(10,0,-1)\n",
    "dest = np.column_stack([moving,moving])"
   ]
  },
  {
   "cell_type": "code",
   "execution_count": 5,
   "metadata": {},
   "outputs": [
    {
     "data": {
      "text/plain": [
       "(array([[0, 0],\n",
       "        [1, 1],\n",
       "        [2, 2],\n",
       "        [3, 3],\n",
       "        [4, 4],\n",
       "        [5, 5],\n",
       "        [6, 6],\n",
       "        [7, 7],\n",
       "        [8, 8],\n",
       "        [9, 9]]), array([[10, 10],\n",
       "        [ 9,  9],\n",
       "        [ 8,  8],\n",
       "        [ 7,  7],\n",
       "        [ 6,  6],\n",
       "        [ 5,  5],\n",
       "        [ 4,  4],\n",
       "        [ 3,  3],\n",
       "        [ 2,  2],\n",
       "        [ 1,  1]]))"
      ]
     },
     "execution_count": 5,
     "metadata": {},
     "output_type": "execute_result"
    }
   ],
   "source": [
    "src,dest"
   ]
  },
  {
   "cell_type": "code",
   "execution_count": 6,
   "metadata": {},
   "outputs": [],
   "source": [
    "matches = []\n",
    "for i in range(10):\n",
    "    matches.append(cv2.DMatch(i,i,0.0))"
   ]
  },
  {
   "cell_type": "code",
   "execution_count": null,
   "metadata": {},
   "outputs": [],
   "source": [
    "try:\n",
    "    tps.estimateTransformation(src,dest,matches)\n",
    "except Exception as ex:\n",
    "    print(ex)"
   ]
  },
  {
   "cell_type": "code",
   "execution_count": 13,
   "metadata": {},
   "outputs": [],
   "source": []
  },
  {
   "cell_type": "code",
   "execution_count": 3,
   "metadata": {},
   "outputs": [],
   "source": [
    "sshape = np.array([[100,100],[200,100],[240,200],[300,250]],np.float32)\n",
    "tshape = np.array([[100,180],[200,130],[240,220],[300,280]],np.float32)\n",
    "sshape = sshape.reshape(1,-1,2)\n",
    "tshape = tshape.reshape(1,-1,2)"
   ]
  },
  {
   "cell_type": "code",
   "execution_count": 4,
   "metadata": {},
   "outputs": [],
   "source": [
    "matches = list()\n",
    "matches.append(cv2.DMatch(0,0,0))\n",
    "matches.append(cv2.DMatch(1,1,0))\n",
    "matches.append(cv2.DMatch(2,2,0))\n",
    "matches.append(cv2.DMatch(3,3,0))"
   ]
  },
  {
   "cell_type": "code",
   "execution_count": null,
   "metadata": {},
   "outputs": [],
   "source": [
    "tps = cv2.ThinPlateSplineShapeTransformer()\n",
    "tps.estimateTransformation(sshape,tshape,matches)"
   ]
  },
  {
   "cell_type": "code",
   "execution_count": 1,
   "metadata": {},
   "outputs": [
    {
     "name": "stdout",
     "output_type": "stream",
     "text": [
      "/Users/neshdev/radpathfusion\r\n"
     ]
    }
   ],
   "source": [
    "!pwd"
   ]
  },
  {
   "cell_type": "code",
   "execution_count": 6,
   "metadata": {},
   "outputs": [],
   "source": [
    "z = cv2.imread(\"image.jpg\")"
   ]
  },
  {
   "cell_type": "code",
   "execution_count": 7,
   "metadata": {},
   "outputs": [
    {
     "data": {
      "text/plain": [
       "numpy.ndarray"
      ]
     },
     "execution_count": 7,
     "metadata": {},
     "output_type": "execute_result"
    }
   ],
   "source": [
    "type(z)"
   ]
  },
  {
   "cell_type": "code",
   "execution_count": 8,
   "metadata": {},
   "outputs": [
    {
     "data": {
      "text/plain": [
       "(308, 450, 3)"
      ]
     },
     "execution_count": 8,
     "metadata": {},
     "output_type": "execute_result"
    }
   ],
   "source": [
    "z.shape"
   ]
  },
  {
   "cell_type": "code",
   "execution_count": null,
   "metadata": {},
   "outputs": [],
   "source": []
  }
 ],
 "metadata": {
  "kernelspec": {
   "display_name": "Python 3",
   "language": "python",
   "name": "python3"
  },
  "language_info": {
   "codemirror_mode": {
    "name": "ipython",
    "version": 3
   },
   "file_extension": ".py",
   "mimetype": "text/x-python",
   "name": "python",
   "nbconvert_exporter": "python",
   "pygments_lexer": "ipython3",
   "version": "3.8.5"
  }
 },
 "nbformat": 4,
 "nbformat_minor": 2
}
