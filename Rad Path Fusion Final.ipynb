{
 "cells": [
  {
   "cell_type": "code",
   "execution_count": null,
   "metadata": {},
   "outputs": [],
   "source": [
    "import cv2\n",
    "import holoviews as hv\n",
    "from holoviews import opts\n",
    "import param\n",
    "import panel as pn\n",
    "import numpy as np\n",
    "import holoviews as hv\n",
    "from holoviews import opts\n",
    "import numpy as np\n",
    "import pandas as pd\n",
    "pn.extension()\n",
    "hv.extension('bokeh')"
   ]
  },
  {
   "cell_type": "code",
   "execution_count": null,
   "metadata": {},
   "outputs": [],
   "source": [
    "%load_ext autoreload\n",
    "%autoreload 2"
   ]
  },
  {
   "cell_type": "code",
   "execution_count": null,
   "metadata": {},
   "outputs": [],
   "source": [
    "# CONSTANTS\n",
    "VISUAL_WIDTH = 800\n",
    "VISUAL_HEIGHT = 800\n",
    "\n",
    "def visualize(graph):\n",
    "    return graph.opts(width=VISUAL_WIDTH, height=VISUAL_HEIGHT)"
   ]
  },
  {
   "cell_type": "markdown",
   "metadata": {},
   "source": [
    "# Data Loading\n",
    "\n",
    "Use this cell to point to the location of your 3 sources\n",
    "1. MRI source (this the folder path)\n",
    "1. Pathology source (this is the image path)\n",
    "1. Pathology annotated image source (this is the annotated image path)"
   ]
  },
  {
   "cell_type": "code",
   "execution_count": null,
   "metadata": {},
   "outputs": [],
   "source": [
    "mri_folder_path = f'data/Prostate Fused-MRI-Pathology/aaa0051/07-02-2000-PELVISPROSTATE-97855/4.000000-T2 AXIAL SM FOV-36207'\n",
    "pathology_img_path = 'data/pathology/aaa 0051 BSlice.tif'\n",
    "pathology_annotated_img_path = 'data/pathology/aaa 0051 BSlice annotated.tif'\n",
    "\n",
    "# mri_folder_path = 'data/patient87/Prostate Fused-MRI-Pathology/aaa0087/09-01-2000-PELVISPROSTATE-81724/5.000000-T2 AXIAL SM FOV-30095'\n",
    "# pathology_img_path = '/Users/neshdev/radpathfusion/data/patient87/pathology/aaa0087 A1A2A3A4.tif'\n",
    "# pathology_annotated_img_path\n"
   ]
  },
  {
   "cell_type": "markdown",
   "metadata": {},
   "source": [
    "**Warning**: This might take a while depening on the size of the image"
   ]
  },
  {
   "cell_type": "code",
   "execution_count": null,
   "metadata": {},
   "outputs": [],
   "source": [
    "import utils as rad"
   ]
  },
  {
   "cell_type": "code",
   "execution_count": null,
   "metadata": {},
   "outputs": [],
   "source": [
    "pathology_source = rad.Image.load(pathology_img_path)\n",
    "pathology_annotated_source = rad.Image.load(pathology_annotated_img_path)"
   ]
  },
  {
   "cell_type": "code",
   "execution_count": null,
   "metadata": {},
   "outputs": [],
   "source": [
    "# pathology_source = cv2.imread(pathology_img_path)\n",
    "# pathology_annotated_source = cv2.imread(pathology_annotated_img_path)"
   ]
  },
  {
   "cell_type": "markdown",
   "metadata": {},
   "source": [
    "# Select and Upscale the MRI slice\n",
    "\n",
    "Use the follwing cell to select the slice of the MRI image. Additionally, select the upscaled ascpet ratio of the MRI image."
   ]
  },
  {
   "cell_type": "code",
   "execution_count": null,
   "metadata": {},
   "outputs": [],
   "source": [
    "mri_viewer = rad.MriVisualizer(mri_path=mri_folder_path)\n",
    "mri_viewer.panel()"
   ]
  },
  {
   "cell_type": "markdown",
   "metadata": {},
   "source": [
    "# Downscale the Pathology image\n",
    "\n",
    "In the following cell, downscale the pathology image. Similarly, there are options to transform the image.\n",
    "\n",
    "Note: This is normally a very large image file. Downscaling this image as small as possible to find the orientation.\n",
    "      \n",
    "**WARNING**: The aspect ratio is of the original image at angle 0. Not the rotated bounds of the chart that are visually displayed."
   ]
  },
  {
   "cell_type": "code",
   "execution_count": null,
   "metadata": {},
   "outputs": [],
   "source": [
    "pathology_viewer = rad.PathologyVisualizer(pathology_img=pathology_source)\n",
    "pathology_viewer.panel()"
   ]
  },
  {
   "cell_type": "markdown",
   "metadata": {},
   "source": [
    "# Annotation Overlay Validation\n",
    "\n",
    "The below visualization is to show the annotated pathology image along with the pathology image."
   ]
  },
  {
   "cell_type": "code",
   "execution_count": null,
   "metadata": {},
   "outputs": [],
   "source": [
    "pathology_viewer.side_by_side(pathology_annotated_source)"
   ]
  },
  {
   "cell_type": "markdown",
   "metadata": {},
   "source": [
    "# Landmark Selection\n",
    "\n",
    "After completing the upscaling and downscaling of both the mri image and pathology image. We will use the next control to select the landmarks.\n",
    "\n",
    "Use the Point Draw tool to select the points. Refrence to point draw selection can be found here: https://holoviews.org/reference/streams/bokeh/PointDraw.html\n",
    "\n",
    "Note: You can zoom and pan by using the controls.\n",
    "\n",
    "**WARNING**: Select the same amount of points in both images. The points are associated by color. A new point will always be colored white upon creation and will be changed to the default color if the context changes.\n",
    "\n",
    "**WARNING**: If you need to reselect the MRI slice or reorient the pathology image, you can go above and update the values in the above control. However, for it to take effect, you will have rerun the following cell."
   ]
  },
  {
   "cell_type": "code",
   "execution_count": null,
   "metadata": {},
   "outputs": [],
   "source": [
    "landmarks_viewer = rad.LandmarkSelectorVisualizer(fixed_img=mri_viewer.fixed_image, moving_img=pathology_viewer.moving_image)\n",
    "landmarks_viewer.panel()"
   ]
  },
  {
   "cell_type": "markdown",
   "metadata": {},
   "source": [
    "# Landmark association verification\n",
    "\n",
    "The below cell is a table verifying the associated points selected from the pervious cell.\n",
    "\n",
    "**Note**: The origin(reference frame) is bottom left. Depending on the library you are using, there are different conventions."
   ]
  },
  {
   "cell_type": "code",
   "execution_count": null,
   "metadata": {},
   "outputs": [],
   "source": [
    "landmarks_viewer.associated_points_to_DF()"
   ]
  },
  {
   "cell_type": "code",
   "execution_count": null,
   "metadata": {},
   "outputs": [],
   "source": [
    "fixed = landmarks_viewer.fixed_image(in_origin=rad.Origin.TOP_LEFT)"
   ]
  },
  {
   "cell_type": "code",
   "execution_count": null,
   "metadata": {},
   "outputs": [],
   "source": [
    "moving = landmarks_viewer.moving_image(in_origin=rad.Origin.TOP_LEFT)"
   ]
  },
  {
   "cell_type": "code",
   "execution_count": null,
   "metadata": {},
   "outputs": [],
   "source": [
    "annotated = (pathology_annotated_source.copy_attributes(landmarks_viewer.moving_image(in_origin=rad.Origin.TOP_LEFT))\n",
    "                                       .update(interpolation='INTER_AREA'))"
   ]
  },
  {
   "cell_type": "code",
   "execution_count": null,
   "metadata": {},
   "outputs": [],
   "source": [
    "tps_viewer = rad.TpsAlgoVisualizer(\n",
    "    fixed_image = landmarks_viewer.fixed_image(in_origin=rad.Origin.TOP_LEFT),\n",
    "    moving_image = landmarks_viewer.moving_image(in_origin=rad.Origin.TOP_LEFT)\n",
    ")\n"
   ]
  },
  {
   "cell_type": "code",
   "execution_count": null,
   "metadata": {},
   "outputs": [],
   "source": [
    "visualize(tps_viewer.mri_with_fixed_points())"
   ]
  },
  {
   "cell_type": "code",
   "execution_count": null,
   "metadata": {},
   "outputs": [],
   "source": [
    "visualize(tps_viewer.pathology_with_affine_points())"
   ]
  },
  {
   "cell_type": "code",
   "execution_count": null,
   "metadata": {},
   "outputs": [],
   "source": [
    "visualize(tps_viewer.pathology_with_tps_points())"
   ]
  },
  {
   "cell_type": "code",
   "execution_count": null,
   "metadata": {},
   "outputs": [],
   "source": [
    "visualize(tps_viewer.mri_with_affine_overlay())"
   ]
  },
  {
   "cell_type": "code",
   "execution_count": null,
   "metadata": {},
   "outputs": [],
   "source": [
    "visualize(tps_viewer.mri_with_affine_and_tps_overlay())"
   ]
  },
  {
   "cell_type": "code",
   "execution_count": null,
   "metadata": {},
   "outputs": [],
   "source": [
    "visualize(tps_viewer.mri_with_tps_overlay())"
   ]
  },
  {
   "cell_type": "code",
   "execution_count": null,
   "metadata": {},
   "outputs": [],
   "source": [
    "tps_viewer.panel()"
   ]
  },
  {
   "cell_type": "code",
   "execution_count": null,
   "metadata": {},
   "outputs": [],
   "source": []
  },
  {
   "cell_type": "markdown",
   "metadata": {},
   "source": [
    "# Image Alignment Visualization\n",
    "\n",
    "The below visualization shows the final transformations of the image registration done in the previous steps. In this visualization, you can see the pathology and mri image overlayed on top of each other. Additionally, you can control the transparency of each layer."
   ]
  },
  {
   "cell_type": "code",
   "execution_count": null,
   "metadata": {},
   "outputs": [],
   "source": [
    "\n",
    "overlay_viewer = rad.TpsOverlayVisualizer(\n",
    "    fixed=landmarks_viewer.fixed_image(in_origin=rad.Origin.TOP_LEFT), \n",
    "    warped=landmarks_viewer.moving_image(in_origin=rad.Origin.TOP_LEFT), \n",
    "    annotated=pathology_annotated_source.copy_attributes(\n",
    "        landmarks_viewer.moving_image(in_origin=rad.Origin.TOP_LEFT)))\n",
    "overlay_viewer.panel()"
   ]
  },
  {
   "cell_type": "code",
   "execution_count": null,
   "metadata": {},
   "outputs": [],
   "source": [
    "save_path = \"\"\n",
    "landmarks_viewer.fixed_image(in_origin=rad.Origin.TOP_LEFT)"
   ]
  },
  {
   "cell_type": "code",
   "execution_count": null,
   "metadata": {},
   "outputs": [],
   "source": []
  }
 ],
 "metadata": {
  "kernelspec": {
   "display_name": "Python 3",
   "language": "python",
   "name": "python3"
  },
  "language_info": {
   "codemirror_mode": {
    "name": "ipython",
    "version": 3
   },
   "file_extension": ".py",
   "mimetype": "text/x-python",
   "name": "python",
   "nbconvert_exporter": "python",
   "pygments_lexer": "ipython3",
   "version": "3.8.5"
  }
 },
 "nbformat": 4,
 "nbformat_minor": 4
}
