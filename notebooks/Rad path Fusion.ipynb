{
 "cells": [
  {
   "cell_type": "code",
   "execution_count": null,
   "metadata": {},
   "outputs": [],
   "source": [
    "import holoviews as hv\n",
    "from holoviews import opts\n",
    "from PIL import Image\n",
    "import numpy as np\n",
    "from holoviews import streams\n",
    "from holoviews.streams import Pipe, Buffer\n",
    "from holoviews.plotting.links import DataLink\n",
    "import pandas as pd\n",
    "hv.extension('bokeh')"
   ]
  },
  {
   "cell_type": "code",
   "execution_count": null,
   "metadata": {},
   "outputs": [],
   "source": [
    "source_path = '../data/dario1.jpg'\n",
    "source_img = Image.open(source_path)\n",
    "source_img"
   ]
  },
  {
   "cell_type": "code",
   "execution_count": null,
   "metadata": {},
   "outputs": [],
   "source": [
    "moving_path = '../data/dario2.jpg'\n",
    "moving_img = Image.open(moving_path)\n",
    "moving_img"
   ]
  },
  {
   "cell_type": "code",
   "execution_count": null,
   "metadata": {},
   "outputs": [],
   "source": [
    "points_source = hv.Points([], vdims='color')\n",
    "points_source_stream = streams.PointDraw(data=points_source.columns(), num_objects=10, source=points_source, empty_value='black')\n",
    "\n",
    "source_image = hv.RGB(np.array(source_img), bounds=(0, 0, source_img.width, source_img.height))\n",
    "\n",
    "source_table = hv.Table(points_source, ['x', 'y'], 'color')\n",
    "DataLink(points_source, source_table)\n",
    "\n",
    "static = ((source_image * points_source) + source_table).opts(\n",
    "    opts.Points(active_tools=['point_draw'], color='color', show_grid=True,\n",
    "                marker='s', size=10, tools=['hover', 'crosshair', 'undo']),\n",
    "    opts.Table(editable=True)\n",
    ")\n",
    "\n",
    "\n",
    "moving_image = hv.RGB(np.array(moving_img), bounds=(0, 0, moving_img.width, moving_img.height))\n",
    "moving_points_source = hv.Points([], vdims='color')\n",
    "moving_points_source_stream = streams.PointDraw(data=moving_points_source.columns(), num_objects=10, source=moving_points_source, empty_value='black')\n",
    "\n",
    "moving_table = hv.Table(moving_points_source, ['x', 'y'], 'color')\n",
    "DataLink(moving_points_source, moving_table)\n",
    "\n",
    "moving = ((moving_image * moving_points_source) + moving_table).opts(\n",
    "    opts.Points(active_tools=['point_draw'], color='color', \n",
    "                marker='s', size=10, tools=['hover', 'crosshair']),\n",
    "    opts.Table(editable=True)\n",
    ")\n",
    "\n",
    "\n",
    "\n",
    "layout = (static + moving).opts(merge_tools=False, shared_axes=False)\n",
    "layout.cols(2)\n"
   ]
  },
  {
   "cell_type": "code",
   "execution_count": null,
   "metadata": {},
   "outputs": [],
   "source": [
    "import cv2\n",
    "import numpy as np\n",
    "from pprint import pprint"
   ]
  },
  {
   "cell_type": "code",
   "execution_count": null,
   "metadata": {},
   "outputs": [],
   "source": [
    "pprint(cv2.getBuildInformation())"
   ]
  },
  {
   "cell_type": "code",
   "execution_count": null,
   "metadata": {},
   "outputs": [],
   "source": [
    "points_source_stream.contents,moving_points_source_stream.contents"
   ]
  },
  {
   "cell_type": "code",
   "execution_count": null,
   "metadata": {},
   "outputs": [],
   "source": [
    "fixed_x = np.array(points_source_stream.data['x'])\n",
    "fixed_y = np.array(points_source_stream.data['y'])\n",
    "fixed = np.column_stack([fixed_x,fixed_y]).astype(np.int).reshape(1, -1, 2)\n",
    "                       \n",
    "moved_x = np.array(moving_points_source_stream.data['x'])\n",
    "moved_y = np.array(moving_points_source_stream.data['y'])\n",
    "moved = np.column_stack([moved_x,moved_y]).astype(np.int).reshape(1, -1, 2)"
   ]
  },
  {
   "cell_type": "code",
   "execution_count": null,
   "metadata": {},
   "outputs": [],
   "source": [
    "fixed, moved"
   ]
  },
  {
   "cell_type": "code",
   "execution_count": null,
   "metadata": {},
   "outputs": [],
   "source": [
    "matches = []\n",
    "for i in range(fixed.shape[1]):\n",
    "    matches.append(cv2.DMatch(i,i,0))\n",
    "matches"
   ]
  },
  {
   "cell_type": "code",
   "execution_count": null,
   "metadata": {},
   "outputs": [],
   "source": [
    "si_ = np.array(source_img)\n",
    "mi_ = np.array(moving_img)\n",
    "wi_ = np.ones_like(si_)"
   ]
  },
  {
   "cell_type": "code",
   "execution_count": null,
   "metadata": {},
   "outputs": [],
   "source": [
    "si_.shape, mi_.shape, wi_.shape"
   ]
  },
  {
   "cell_type": "code",
   "execution_count": null,
   "metadata": {},
   "outputs": [],
   "source": [
    "tps = cv2.createThinPlateSplineShapeTransformer()\n",
    "tps.estimateTransformation(fixed, moved, matches)"
   ]
  },
  {
   "cell_type": "code",
   "execution_count": null,
   "metadata": {},
   "outputs": [],
   "source": [
    "tps.warpImage(si_, wi_)"
   ]
  },
  {
   "cell_type": "code",
   "execution_count": null,
   "metadata": {},
   "outputs": [],
   "source": [
    "hv.RGB(si_, bounds=(0, 0, moving_img.width, moving_img.height)) + hv.RGB(wi_, bounds=(0, 0, moving_img.width, moving_img.height))"
   ]
  }
 ],
 "metadata": {
  "kernelspec": {
   "display_name": "Python 3",
   "language": "python",
   "name": "python3"
  },
  "language_info": {
   "codemirror_mode": {
    "name": "ipython",
    "version": 3
   },
   "file_extension": ".py",
   "mimetype": "text/x-python",
   "name": "python",
   "nbconvert_exporter": "python",
   "pygments_lexer": "ipython3",
   "version": "3.8.3"
  }
 },
 "nbformat": 4,
 "nbformat_minor": 4
}
